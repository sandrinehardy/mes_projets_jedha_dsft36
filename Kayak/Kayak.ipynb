{
 "cells": [
  {
   "cell_type": "code",
   "execution_count": 36,
   "id": "cc90ddba",
   "metadata": {},
   "outputs": [],
   "source": [
    "import requests\n",
    "import pandas as pd\n",
    "import plotly.express as px"
   ]
  },
  {
   "cell_type": "code",
   "execution_count": 37,
   "id": "4c2d6d19",
   "metadata": {},
   "outputs": [
    {
     "data": {
      "text/plain": [
       "'https://nominatim.openstreetmap.org/search?q=Bayeux+France&format=geojson'"
      ]
     },
     "execution_count": 37,
     "metadata": {},
     "output_type": "execute_result"
    }
   ],
   "source": [
    "pays = 'France'\n",
    "ville = 'Bayeux'\n",
    "\n",
    "# note pour plus tard : si la ville a des espaces 'Mont Saint Michel', les remplacer par %20\n",
    "\n",
    "#https://nominatim.openstreetmap.org/search?q=Paris&format=geojson\n",
    "\n",
    "url_base = 'https://nominatim.openstreetmap.org/search?'\n",
    "url_recherche = f\"q={ville}+{pays}&format=geojson\"\n",
    "\n",
    "url_total = url_base+url_recherche\n",
    "url_total"
   ]
  },
  {
   "cell_type": "code",
   "execution_count": 38,
   "id": "915fdb96",
   "metadata": {},
   "outputs": [
    {
     "name": "stdout",
     "output_type": "stream",
     "text": [
      "status code: <Response [200]>\n"
     ]
    }
   ],
   "source": [
    "r = requests.get(url_base+\"ping\")\n",
    "\n",
    "print(\"status code:\", r)\n",
    "#print(f\"Response data: {r.text}\")"
   ]
  },
  {
   "cell_type": "code",
   "execution_count": 39,
   "id": "1f766356",
   "metadata": {},
   "outputs": [
    {
     "name": "stdout",
     "output_type": "stream",
     "text": [
      "{'https://nominatim.openstreetmap.org/search?q=Bayeux+France&format=geojson'}\n",
      "status code: <Response [200]>\n"
     ]
    }
   ],
   "source": [
    "#utiliser un user_agent\n",
    "headers = {\"User-Agent\": \"Mozilla/5.0 (Windows NT 10.0; Win64; x64) AppleWebKit/537.36 (KHTML, like Gecko) Chrome/137.0.0.0 Safari/537.36\"}\n",
    "\n",
    "url_recherche = f\"q={ville}+{pays}&format=geojson\"\n",
    "url_total = url_base+url_recherche\n",
    "r2 = requests.get(url_total, headers=headers)\n",
    "\n",
    "print({url_base+url_recherche})\n",
    "print(\"status code:\", r2)"
   ]
  },
  {
   "cell_type": "code",
   "execution_count": 40,
   "id": "822c1b10",
   "metadata": {},
   "outputs": [
    {
     "data": {
      "text/plain": [
       "{'type': 'FeatureCollection',\n",
       " 'licence': 'Data © OpenStreetMap contributors, ODbL 1.0. http://osm.org/copyright',\n",
       " 'features': [{'type': 'Feature',\n",
       "   'properties': {'place_id': 261770605,\n",
       "    'osm_type': 'relation',\n",
       "    'osm_id': 145776,\n",
       "    'place_rank': 16,\n",
       "    'category': 'boundary',\n",
       "    'type': 'administrative',\n",
       "    'importance': 0.604294926580297,\n",
       "    'addresstype': 'town',\n",
       "    'name': 'Bayeux',\n",
       "    'display_name': 'Bayeux, Calvados, Normandie, France métropolitaine, 14400, France'},\n",
       "   'bbox': [-0.7275523, 49.260811, -0.6757378, 49.2934736],\n",
       "   'geometry': {'type': 'Point', 'coordinates': [-0.7024738, 49.2764624]}},\n",
       "  {'type': 'Feature',\n",
       "   'properties': {'place_id': 261221493,\n",
       "    'osm_type': 'relation',\n",
       "    'osm_id': 1656892,\n",
       "    'place_rank': 14,\n",
       "    'category': 'boundary',\n",
       "    'type': 'administrative',\n",
       "    'importance': 0.5364766131658847,\n",
       "    'addresstype': 'municipality',\n",
       "    'name': 'Bayeux',\n",
       "    'display_name': 'Bayeux, Calvados, Normandie, France métropolitaine, France'},\n",
       "   'bbox': [-1.1412392, 49.0931683, -0.4113237, 49.3978952],\n",
       "   'geometry': {'type': 'Point',\n",
       "    'coordinates': [-0.791677, 49.245563399999995]}}]}"
      ]
     },
     "execution_count": 40,
     "metadata": {},
     "output_type": "execute_result"
    }
   ],
   "source": [
    "r2_dict = r2.json()\n",
    "r2_dict"
   ]
  },
  {
   "cell_type": "code",
   "execution_count": 41,
   "id": "1ec2adc5",
   "metadata": {},
   "outputs": [
    {
     "data": {
      "text/plain": [
       "dict_keys(['type', 'licence', 'features'])"
      ]
     },
     "execution_count": 41,
     "metadata": {},
     "output_type": "execute_result"
    }
   ],
   "source": [
    "r2_dict.keys()"
   ]
  },
  {
   "cell_type": "code",
   "execution_count": 42,
   "id": "752f63b0",
   "metadata": {},
   "outputs": [
    {
     "data": {
      "text/plain": [
       "2"
      ]
     },
     "execution_count": 42,
     "metadata": {},
     "output_type": "execute_result"
    }
   ],
   "source": [
    "len(r2_dict['features'])"
   ]
  },
  {
   "cell_type": "code",
   "execution_count": 43,
   "id": "d51fa79e",
   "metadata": {},
   "outputs": [
    {
     "data": {
      "text/plain": [
       "{'type': 'Feature',\n",
       " 'properties': {'place_id': 261770605,\n",
       "  'osm_type': 'relation',\n",
       "  'osm_id': 145776,\n",
       "  'place_rank': 16,\n",
       "  'category': 'boundary',\n",
       "  'type': 'administrative',\n",
       "  'importance': 0.604294926580297,\n",
       "  'addresstype': 'town',\n",
       "  'name': 'Bayeux',\n",
       "  'display_name': 'Bayeux, Calvados, Normandie, France métropolitaine, 14400, France'},\n",
       " 'bbox': [-0.7275523, 49.260811, -0.6757378, 49.2934736],\n",
       " 'geometry': {'type': 'Point', 'coordinates': [-0.7024738, 49.2764624]}}"
      ]
     },
     "execution_count": 43,
     "metadata": {},
     "output_type": "execute_result"
    }
   ],
   "source": [
    "r2_dict['features'][0]"
   ]
  },
  {
   "cell_type": "code",
   "execution_count": 44,
   "id": "67075ff9",
   "metadata": {},
   "outputs": [
    {
     "data": {
      "text/plain": [
       "{'type': 'Feature',\n",
       " 'properties': {'place_id': 261221493,\n",
       "  'osm_type': 'relation',\n",
       "  'osm_id': 1656892,\n",
       "  'place_rank': 14,\n",
       "  'category': 'boundary',\n",
       "  'type': 'administrative',\n",
       "  'importance': 0.5364766131658847,\n",
       "  'addresstype': 'municipality',\n",
       "  'name': 'Bayeux',\n",
       "  'display_name': 'Bayeux, Calvados, Normandie, France métropolitaine, France'},\n",
       " 'bbox': [-1.1412392, 49.0931683, -0.4113237, 49.3978952],\n",
       " 'geometry': {'type': 'Point', 'coordinates': [-0.791677, 49.245563399999995]}}"
      ]
     },
     "execution_count": 44,
     "metadata": {},
     "output_type": "execute_result"
    }
   ],
   "source": [
    "r2_dict['features'][1]"
   ]
  },
  {
   "cell_type": "code",
   "execution_count": 45,
   "id": "6c2e313e",
   "metadata": {},
   "outputs": [
    {
     "data": {
      "text/plain": [
       "{'type': 'Point', 'coordinates': [-0.791677, 49.245563399999995]}"
      ]
     },
     "execution_count": 45,
     "metadata": {},
     "output_type": "execute_result"
    }
   ],
   "source": [
    "r2_dict['features'][1]['geometry']"
   ]
  },
  {
   "cell_type": "code",
   "execution_count": 46,
   "id": "0d60d0cb",
   "metadata": {},
   "outputs": [
    {
     "data": {
      "text/plain": [
       "dict"
      ]
     },
     "execution_count": 46,
     "metadata": {},
     "output_type": "execute_result"
    }
   ],
   "source": [
    "type(r2_dict['features'][1]['geometry'])"
   ]
  },
  {
   "cell_type": "code",
   "execution_count": 47,
   "id": "2bc1afb9",
   "metadata": {},
   "outputs": [
    {
     "data": {
      "text/plain": [
       "[-0.791677, 49.245563399999995]"
      ]
     },
     "execution_count": 47,
     "metadata": {},
     "output_type": "execute_result"
    }
   ],
   "source": [
    "r2_dict['features'][1]['geometry']['coordinates']"
   ]
  },
  {
   "cell_type": "markdown",
   "id": "9424da3a",
   "metadata": {},
   "source": [
    "Essai avec une autre ville (reproductibilité)"
   ]
  },
  {
   "cell_type": "code",
   "execution_count": 48,
   "id": "139fd708",
   "metadata": {},
   "outputs": [
    {
     "name": "stdout",
     "output_type": "stream",
     "text": [
      "{'https://nominatim.openstreetmap.org/search?q=Toulouse+France&format=geojson'}\n",
      "status code: <Response [200]>\n"
     ]
    }
   ],
   "source": [
    "pays = 'France'\n",
    "ville= 'Toulouse'\n",
    "\n",
    "headers = {\"User-Agent\": \"Mozilla/5.0 (Windows NT 10.0; Win64; x64) AppleWebKit/537.36 (KHTML, like Gecko) Chrome/137.0.0.0 Safari/537.36\"}\n",
    "\n",
    "url_base = 'https://nominatim.openstreetmap.org/search?'\n",
    "url_recherche = f\"q={ville}+{pays}&format=geojson\"\n",
    "url_total = url_base+url_recherche\n",
    "\n",
    "r = requests.get(url_total, headers=headers)\n",
    "\n",
    "print({url_base+url_recherche})\n",
    "print(\"status code:\", r)\n",
    "\n"
   ]
  },
  {
   "cell_type": "code",
   "execution_count": 49,
   "id": "ad34c132",
   "metadata": {},
   "outputs": [],
   "source": [
    "r = r.json()"
   ]
  },
  {
   "cell_type": "code",
   "execution_count": 50,
   "id": "5cbb6fef",
   "metadata": {},
   "outputs": [
    {
     "data": {
      "text/plain": [
       "[1.503329, 43.5792284]"
      ]
     },
     "execution_count": 50,
     "metadata": {},
     "output_type": "execute_result"
    }
   ],
   "source": [
    "r['features'][1]['geometry']['coordinates']"
   ]
  },
  {
   "cell_type": "markdown",
   "id": "82c6b8a4",
   "metadata": {},
   "source": [
    "Ville avec un espace dans le nom"
   ]
  },
  {
   "cell_type": "code",
   "execution_count": 51,
   "id": "e340ce84",
   "metadata": {},
   "outputs": [
    {
     "name": "stdout",
     "output_type": "stream",
     "text": [
      "{'https://nominatim.openstreetmap.org/search?q=Toulouse+France&format=geojson'}\n",
      "le status code de la requete est 200\n",
      "Les coordonnées de Toulouse sont : [1.503329, 43.5792284]\n"
     ]
    }
   ],
   "source": [
    "pays = 'France'\n",
    "ville= 'Toulouse'\n",
    "\n",
    "headers = {\"User-Agent\": \"Mozilla/5.0 (Windows NT 10.0; Win64; x64) AppleWebKit/537.36 (KHTML, like Gecko) Chrome/137.0.0.0 Safari/537.36\"}\n",
    "\n",
    "url_base = 'https://nominatim.openstreetmap.org/search?'\n",
    "url_recherche = f\"q={ville}+{pays}&format=geojson\"\n",
    "url_total = url_base+url_recherche\n",
    "\n",
    "r = requests.get(url_total, headers=headers)\n",
    "\n",
    "print({url_base+url_recherche})\n",
    "print(f'le status code de la requete est {r.status_code}')\n",
    "\n",
    "r = r.json()\n",
    "coordonnees = r['features'][1]['geometry']['coordinates']\n",
    "print(f'Les coordonnées de {ville} sont : {coordonnees}')"
   ]
  },
  {
   "cell_type": "markdown",
   "id": "9934a9a9",
   "metadata": {},
   "source": [
    "Ville avec un espace dans le nom"
   ]
  },
  {
   "cell_type": "code",
   "execution_count": 52,
   "id": "35df67e1",
   "metadata": {},
   "outputs": [
    {
     "name": "stdout",
     "output_type": "stream",
     "text": [
      "{'https://nominatim.openstreetmap.org/search?q=Le%20Havre+France&format=geojson'}\n",
      "le status code de la requete est 200\n",
      "Les coordonnées de Le Havre sont : [0.3921241, 49.6275492]\n"
     ]
    }
   ],
   "source": [
    "pays = 'France'\n",
    "ville_brut= 'Le Havre'\n",
    "ville = ville_brut.replace(' ', '%20')\n",
    "\n",
    "headers = {\"User-Agent\": \"Mozilla/5.0 (Windows NT 10.0; Win64; x64) AppleWebKit/537.36 (KHTML, like Gecko) Chrome/137.0.0.0 Safari/537.36\"}\n",
    "\n",
    "url_base = 'https://nominatim.openstreetmap.org/search?'\n",
    "url_recherche = f\"q={ville}+{pays}&format=geojson\"\n",
    "url_total = url_base+url_recherche\n",
    "\n",
    "r = requests.get(url_total, headers=headers)\n",
    "\n",
    "print({url_base+url_recherche})\n",
    "print(f'le status code de la requete est {r.status_code}')\n",
    "\n",
    "r = r.json()\n",
    "coordonnees = r['features'][1]['geometry']['coordinates']\n",
    "print(f'Les coordonnées de {ville_brut} sont : {coordonnees}')"
   ]
  },
  {
   "cell_type": "markdown",
   "id": "ed70a07e",
   "metadata": {},
   "source": [
    "Essai de boucle"
   ]
  },
  {
   "cell_type": "code",
   "execution_count": 53,
   "id": "c506099c",
   "metadata": {},
   "outputs": [
    {
     "name": "stdout",
     "output_type": "stream",
     "text": [
      "ville Mont Saint Michel ajoutée\n",
      "ville St Malo ajoutée\n",
      "ville Bayeux ajoutée\n",
      "ville Le Havre ajoutée\n",
      "ville Rouen ajoutée\n",
      "ville Paris ajoutée\n",
      "ville Amiens ajoutée\n",
      "ville Lille ajoutée\n",
      "ville Strasbourg ajoutée\n",
      "ville Chateau du Haut Koenigsbourg ajoutée\n",
      "ville Colmar ajoutée\n",
      "ville Eguisheim ajoutée\n",
      "ville Besancon ajoutée\n",
      "ville Dijon ajoutée\n",
      "ville Annecy ajoutée\n",
      "ville Grenoble ajoutée\n",
      "ville Lyon ajoutée\n",
      "ville Gorges du Verdon ajoutée\n",
      "ville Bormes les Mimosas ajoutée\n",
      "ville Cassis ajoutée\n",
      "ville Marseille ajoutée\n",
      "ville Aix en Provence ajoutée\n",
      "ville Avignon ajoutée\n",
      "ville Uzes ajoutée\n",
      "ville Nimes ajoutée\n",
      "ville Aigues Mortes ajoutée\n",
      "ville Saintes Maries de la mer ajoutée\n",
      "ville Collioure ajoutée\n",
      "ville Carcassonne ajoutée\n",
      "ville Ariege ajoutée\n",
      "ville Toulouse ajoutée\n",
      "ville Montauban ajoutée\n",
      "ville Biarritz ajoutée\n",
      "ville Bayonne ajoutée\n",
      "ville La Rochelle ajoutée\n"
     ]
    }
   ],
   "source": [
    "headers = {\"User-Agent\": \"Mozilla/5.0 (Windows NT 10.0; Win64; x64) AppleWebKit/537.36 (KHTML, like Gecko) Chrome/137.0.0.0 Safari/537.36\"}\n",
    "\n",
    "pays = 'France'\n",
    "url_base = 'https://nominatim.openstreetmap.org/search?'\n",
    "\n",
    "villes_brutes = [\"Mont Saint Michel\",\n",
    "\"St Malo\",\n",
    "\"Bayeux\",\n",
    "\"Le Havre\",\n",
    "\"Rouen\",\n",
    "\"Paris\",\n",
    "\"Amiens\",\n",
    "\"Lille\",\n",
    "\"Strasbourg\",\n",
    "\"Chateau du Haut Koenigsbourg\",\n",
    "\"Colmar\",\n",
    "\"Eguisheim\",\n",
    "\"Besancon\",\n",
    "\"Dijon\",\n",
    "\"Annecy\",\n",
    "\"Grenoble\",\n",
    "\"Lyon\",\n",
    "\"Gorges du Verdon\",\n",
    "\"Bormes les Mimosas\",\n",
    "\"Cassis\",\n",
    "\"Marseille\",\n",
    "\"Aix en Provence\",\n",
    "\"Avignon\",\n",
    "\"Uzes\",\n",
    "\"Nimes\",\n",
    "\"Aigues Mortes\",\n",
    "\"Saintes Maries de la mer\",\n",
    "\"Collioure\",\n",
    "\"Carcassonne\",\n",
    "\"Ariege\",\n",
    "\"Toulouse\",\n",
    "\"Montauban\",\n",
    "\"Biarritz\",\n",
    "\"Bayonne\",\n",
    "\"La Rochelle\"]\n",
    "\n",
    "liste_coordonnees = []\n",
    "for ville in villes_brutes:\n",
    "    donnees_ville = {}\n",
    "    donnees_ville['nom'] = ville\n",
    "    \n",
    "    ville_recherche = ville.replace(' ', '%20')\n",
    "\n",
    "    url_recherche = f\"q={ville_recherche}+{pays}&format=geojson\"\n",
    "    url_total = url_base+url_recherche\n",
    "    donnees_ville['url_ville'] = url_recherche\n",
    "\n",
    "    r = requests.get(url_total, headers=headers)\n",
    "\n",
    "    #print({url_base+url_recherche})\n",
    "    #print(f'le status code de la requete est {r.status_code}')\n",
    "    donnees_ville['status_code'] = r.status_code\n",
    "\n",
    "    r = r.json()\n",
    "    coordonnees = r['features'][0]['geometry']['coordinates']\n",
    "    #print(f'Les coordonnées de {ville} sont : {coordonnees}')\n",
    "    donnees_ville['longitude'] = coordonnees[0]\n",
    "    donnees_ville['latitude'] = coordonnees[1]\n",
    "    liste_coordonnees.append(donnees_ville)\n",
    "    print(f\"ville {ville} ajoutée\")\n",
    "\n",
    "\n",
    "    \n",
    "\n",
    " \n",
    "\n",
    "\n"
   ]
  },
  {
   "cell_type": "code",
   "execution_count": 54,
   "id": "7100492d",
   "metadata": {},
   "outputs": [
    {
     "data": {
      "text/html": [
       "<div>\n",
       "<style scoped>\n",
       "    .dataframe tbody tr th:only-of-type {\n",
       "        vertical-align: middle;\n",
       "    }\n",
       "\n",
       "    .dataframe tbody tr th {\n",
       "        vertical-align: top;\n",
       "    }\n",
       "\n",
       "    .dataframe thead th {\n",
       "        text-align: right;\n",
       "    }\n",
       "</style>\n",
       "<table border=\"1\" class=\"dataframe\">\n",
       "  <thead>\n",
       "    <tr style=\"text-align: right;\">\n",
       "      <th></th>\n",
       "      <th>nom</th>\n",
       "      <th>url_ville</th>\n",
       "      <th>status_code</th>\n",
       "      <th>longitude</th>\n",
       "      <th>latitude</th>\n",
       "    </tr>\n",
       "  </thead>\n",
       "  <tbody>\n",
       "    <tr>\n",
       "      <th>0</th>\n",
       "      <td>Mont Saint Michel</td>\n",
       "      <td>q=Mont%20Saint%20Michel+France&amp;format=geojson</td>\n",
       "      <td>200</td>\n",
       "      <td>-1.511460</td>\n",
       "      <td>48.635954</td>\n",
       "    </tr>\n",
       "    <tr>\n",
       "      <th>1</th>\n",
       "      <td>St Malo</td>\n",
       "      <td>q=St%20Malo+France&amp;format=geojson</td>\n",
       "      <td>200</td>\n",
       "      <td>-2.026041</td>\n",
       "      <td>48.649518</td>\n",
       "    </tr>\n",
       "    <tr>\n",
       "      <th>2</th>\n",
       "      <td>Bayeux</td>\n",
       "      <td>q=Bayeux+France&amp;format=geojson</td>\n",
       "      <td>200</td>\n",
       "      <td>-0.702474</td>\n",
       "      <td>49.276462</td>\n",
       "    </tr>\n",
       "    <tr>\n",
       "      <th>3</th>\n",
       "      <td>Le Havre</td>\n",
       "      <td>q=Le%20Havre+France&amp;format=geojson</td>\n",
       "      <td>200</td>\n",
       "      <td>0.107973</td>\n",
       "      <td>49.493898</td>\n",
       "    </tr>\n",
       "    <tr>\n",
       "      <th>4</th>\n",
       "      <td>Rouen</td>\n",
       "      <td>q=Rouen+France&amp;format=geojson</td>\n",
       "      <td>200</td>\n",
       "      <td>1.093966</td>\n",
       "      <td>49.440459</td>\n",
       "    </tr>\n",
       "    <tr>\n",
       "      <th>5</th>\n",
       "      <td>Paris</td>\n",
       "      <td>q=Paris+France&amp;format=geojson</td>\n",
       "      <td>200</td>\n",
       "      <td>2.320041</td>\n",
       "      <td>48.858890</td>\n",
       "    </tr>\n",
       "    <tr>\n",
       "      <th>6</th>\n",
       "      <td>Amiens</td>\n",
       "      <td>q=Amiens+France&amp;format=geojson</td>\n",
       "      <td>200</td>\n",
       "      <td>2.295695</td>\n",
       "      <td>49.894171</td>\n",
       "    </tr>\n",
       "    <tr>\n",
       "      <th>7</th>\n",
       "      <td>Lille</td>\n",
       "      <td>q=Lille+France&amp;format=geojson</td>\n",
       "      <td>200</td>\n",
       "      <td>3.063528</td>\n",
       "      <td>50.636565</td>\n",
       "    </tr>\n",
       "    <tr>\n",
       "      <th>8</th>\n",
       "      <td>Strasbourg</td>\n",
       "      <td>q=Strasbourg+France&amp;format=geojson</td>\n",
       "      <td>200</td>\n",
       "      <td>7.750713</td>\n",
       "      <td>48.584614</td>\n",
       "    </tr>\n",
       "    <tr>\n",
       "      <th>9</th>\n",
       "      <td>Chateau du Haut Koenigsbourg</td>\n",
       "      <td>q=Chateau%20du%20Haut%20Koenigsbourg+France&amp;fo...</td>\n",
       "      <td>200</td>\n",
       "      <td>7.344320</td>\n",
       "      <td>48.249411</td>\n",
       "    </tr>\n",
       "    <tr>\n",
       "      <th>10</th>\n",
       "      <td>Colmar</td>\n",
       "      <td>q=Colmar+France&amp;format=geojson</td>\n",
       "      <td>200</td>\n",
       "      <td>7.357964</td>\n",
       "      <td>48.077752</td>\n",
       "    </tr>\n",
       "    <tr>\n",
       "      <th>11</th>\n",
       "      <td>Eguisheim</td>\n",
       "      <td>q=Eguisheim+France&amp;format=geojson</td>\n",
       "      <td>200</td>\n",
       "      <td>7.307962</td>\n",
       "      <td>48.044797</td>\n",
       "    </tr>\n",
       "    <tr>\n",
       "      <th>12</th>\n",
       "      <td>Besancon</td>\n",
       "      <td>q=Besancon+France&amp;format=geojson</td>\n",
       "      <td>200</td>\n",
       "      <td>6.024362</td>\n",
       "      <td>47.238022</td>\n",
       "    </tr>\n",
       "    <tr>\n",
       "      <th>13</th>\n",
       "      <td>Dijon</td>\n",
       "      <td>q=Dijon+France&amp;format=geojson</td>\n",
       "      <td>200</td>\n",
       "      <td>5.041470</td>\n",
       "      <td>47.321581</td>\n",
       "    </tr>\n",
       "    <tr>\n",
       "      <th>14</th>\n",
       "      <td>Annecy</td>\n",
       "      <td>q=Annecy+France&amp;format=geojson</td>\n",
       "      <td>200</td>\n",
       "      <td>6.128885</td>\n",
       "      <td>45.899235</td>\n",
       "    </tr>\n",
       "    <tr>\n",
       "      <th>15</th>\n",
       "      <td>Grenoble</td>\n",
       "      <td>q=Grenoble+France&amp;format=geojson</td>\n",
       "      <td>200</td>\n",
       "      <td>5.735782</td>\n",
       "      <td>45.187560</td>\n",
       "    </tr>\n",
       "    <tr>\n",
       "      <th>16</th>\n",
       "      <td>Lyon</td>\n",
       "      <td>q=Lyon+France&amp;format=geojson</td>\n",
       "      <td>200</td>\n",
       "      <td>4.832011</td>\n",
       "      <td>45.757814</td>\n",
       "    </tr>\n",
       "    <tr>\n",
       "      <th>17</th>\n",
       "      <td>Gorges du Verdon</td>\n",
       "      <td>q=Gorges%20du%20Verdon+France&amp;format=geojson</td>\n",
       "      <td>200</td>\n",
       "      <td>6.328562</td>\n",
       "      <td>43.749656</td>\n",
       "    </tr>\n",
       "    <tr>\n",
       "      <th>18</th>\n",
       "      <td>Bormes les Mimosas</td>\n",
       "      <td>q=Bormes%20les%20Mimosas+France&amp;format=geojson</td>\n",
       "      <td>200</td>\n",
       "      <td>6.341928</td>\n",
       "      <td>43.150697</td>\n",
       "    </tr>\n",
       "    <tr>\n",
       "      <th>19</th>\n",
       "      <td>Cassis</td>\n",
       "      <td>q=Cassis+France&amp;format=geojson</td>\n",
       "      <td>200</td>\n",
       "      <td>5.539632</td>\n",
       "      <td>43.214036</td>\n",
       "    </tr>\n",
       "    <tr>\n",
       "      <th>20</th>\n",
       "      <td>Marseille</td>\n",
       "      <td>q=Marseille+France&amp;format=geojson</td>\n",
       "      <td>200</td>\n",
       "      <td>5.369953</td>\n",
       "      <td>43.296174</td>\n",
       "    </tr>\n",
       "    <tr>\n",
       "      <th>21</th>\n",
       "      <td>Aix en Provence</td>\n",
       "      <td>q=Aix%20en%20Provence+France&amp;format=geojson</td>\n",
       "      <td>200</td>\n",
       "      <td>5.447474</td>\n",
       "      <td>43.529842</td>\n",
       "    </tr>\n",
       "    <tr>\n",
       "      <th>22</th>\n",
       "      <td>Avignon</td>\n",
       "      <td>q=Avignon+France&amp;format=geojson</td>\n",
       "      <td>200</td>\n",
       "      <td>4.805901</td>\n",
       "      <td>43.949249</td>\n",
       "    </tr>\n",
       "    <tr>\n",
       "      <th>23</th>\n",
       "      <td>Uzes</td>\n",
       "      <td>q=Uzes+France&amp;format=geojson</td>\n",
       "      <td>200</td>\n",
       "      <td>4.419672</td>\n",
       "      <td>44.012128</td>\n",
       "    </tr>\n",
       "    <tr>\n",
       "      <th>24</th>\n",
       "      <td>Nimes</td>\n",
       "      <td>q=Nimes+France&amp;format=geojson</td>\n",
       "      <td>200</td>\n",
       "      <td>4.360069</td>\n",
       "      <td>43.837425</td>\n",
       "    </tr>\n",
       "    <tr>\n",
       "      <th>25</th>\n",
       "      <td>Aigues Mortes</td>\n",
       "      <td>q=Aigues%20Mortes+France&amp;format=geojson</td>\n",
       "      <td>200</td>\n",
       "      <td>4.191540</td>\n",
       "      <td>43.566152</td>\n",
       "    </tr>\n",
       "    <tr>\n",
       "      <th>26</th>\n",
       "      <td>Saintes Maries de la mer</td>\n",
       "      <td>q=Saintes%20Maries%20de%20la%20mer+France&amp;form...</td>\n",
       "      <td>200</td>\n",
       "      <td>4.427720</td>\n",
       "      <td>43.451592</td>\n",
       "    </tr>\n",
       "    <tr>\n",
       "      <th>27</th>\n",
       "      <td>Collioure</td>\n",
       "      <td>q=Collioure+France&amp;format=geojson</td>\n",
       "      <td>200</td>\n",
       "      <td>3.083155</td>\n",
       "      <td>42.525050</td>\n",
       "    </tr>\n",
       "    <tr>\n",
       "      <th>28</th>\n",
       "      <td>Carcassonne</td>\n",
       "      <td>q=Carcassonne+France&amp;format=geojson</td>\n",
       "      <td>200</td>\n",
       "      <td>2.349107</td>\n",
       "      <td>43.213036</td>\n",
       "    </tr>\n",
       "    <tr>\n",
       "      <th>29</th>\n",
       "      <td>Ariege</td>\n",
       "      <td>q=Ariege+France&amp;format=geojson</td>\n",
       "      <td>200</td>\n",
       "      <td>1.406554</td>\n",
       "      <td>42.945537</td>\n",
       "    </tr>\n",
       "    <tr>\n",
       "      <th>30</th>\n",
       "      <td>Toulouse</td>\n",
       "      <td>q=Toulouse+France&amp;format=geojson</td>\n",
       "      <td>200</td>\n",
       "      <td>1.444247</td>\n",
       "      <td>43.604462</td>\n",
       "    </tr>\n",
       "    <tr>\n",
       "      <th>31</th>\n",
       "      <td>Montauban</td>\n",
       "      <td>q=Montauban+France&amp;format=geojson</td>\n",
       "      <td>200</td>\n",
       "      <td>1.354999</td>\n",
       "      <td>44.017584</td>\n",
       "    </tr>\n",
       "    <tr>\n",
       "      <th>32</th>\n",
       "      <td>Biarritz</td>\n",
       "      <td>q=Biarritz+France&amp;format=geojson</td>\n",
       "      <td>200</td>\n",
       "      <td>-1.552727</td>\n",
       "      <td>43.471144</td>\n",
       "    </tr>\n",
       "    <tr>\n",
       "      <th>33</th>\n",
       "      <td>Bayonne</td>\n",
       "      <td>q=Bayonne+France&amp;format=geojson</td>\n",
       "      <td>200</td>\n",
       "      <td>-1.473666</td>\n",
       "      <td>43.494514</td>\n",
       "    </tr>\n",
       "    <tr>\n",
       "      <th>34</th>\n",
       "      <td>La Rochelle</td>\n",
       "      <td>q=La%20Rochelle+France&amp;format=geojson</td>\n",
       "      <td>200</td>\n",
       "      <td>-1.151595</td>\n",
       "      <td>46.159732</td>\n",
       "    </tr>\n",
       "  </tbody>\n",
       "</table>\n",
       "</div>"
      ],
      "text/plain": [
       "                             nom  \\\n",
       "0              Mont Saint Michel   \n",
       "1                        St Malo   \n",
       "2                         Bayeux   \n",
       "3                       Le Havre   \n",
       "4                          Rouen   \n",
       "5                          Paris   \n",
       "6                         Amiens   \n",
       "7                          Lille   \n",
       "8                     Strasbourg   \n",
       "9   Chateau du Haut Koenigsbourg   \n",
       "10                        Colmar   \n",
       "11                     Eguisheim   \n",
       "12                      Besancon   \n",
       "13                         Dijon   \n",
       "14                        Annecy   \n",
       "15                      Grenoble   \n",
       "16                          Lyon   \n",
       "17              Gorges du Verdon   \n",
       "18            Bormes les Mimosas   \n",
       "19                        Cassis   \n",
       "20                     Marseille   \n",
       "21               Aix en Provence   \n",
       "22                       Avignon   \n",
       "23                          Uzes   \n",
       "24                         Nimes   \n",
       "25                 Aigues Mortes   \n",
       "26      Saintes Maries de la mer   \n",
       "27                     Collioure   \n",
       "28                   Carcassonne   \n",
       "29                        Ariege   \n",
       "30                      Toulouse   \n",
       "31                     Montauban   \n",
       "32                      Biarritz   \n",
       "33                       Bayonne   \n",
       "34                   La Rochelle   \n",
       "\n",
       "                                            url_ville  status_code  longitude  \\\n",
       "0       q=Mont%20Saint%20Michel+France&format=geojson          200  -1.511460   \n",
       "1                   q=St%20Malo+France&format=geojson          200  -2.026041   \n",
       "2                      q=Bayeux+France&format=geojson          200  -0.702474   \n",
       "3                  q=Le%20Havre+France&format=geojson          200   0.107973   \n",
       "4                       q=Rouen+France&format=geojson          200   1.093966   \n",
       "5                       q=Paris+France&format=geojson          200   2.320041   \n",
       "6                      q=Amiens+France&format=geojson          200   2.295695   \n",
       "7                       q=Lille+France&format=geojson          200   3.063528   \n",
       "8                  q=Strasbourg+France&format=geojson          200   7.750713   \n",
       "9   q=Chateau%20du%20Haut%20Koenigsbourg+France&fo...          200   7.344320   \n",
       "10                     q=Colmar+France&format=geojson          200   7.357964   \n",
       "11                  q=Eguisheim+France&format=geojson          200   7.307962   \n",
       "12                   q=Besancon+France&format=geojson          200   6.024362   \n",
       "13                      q=Dijon+France&format=geojson          200   5.041470   \n",
       "14                     q=Annecy+France&format=geojson          200   6.128885   \n",
       "15                   q=Grenoble+France&format=geojson          200   5.735782   \n",
       "16                       q=Lyon+France&format=geojson          200   4.832011   \n",
       "17       q=Gorges%20du%20Verdon+France&format=geojson          200   6.328562   \n",
       "18     q=Bormes%20les%20Mimosas+France&format=geojson          200   6.341928   \n",
       "19                     q=Cassis+France&format=geojson          200   5.539632   \n",
       "20                  q=Marseille+France&format=geojson          200   5.369953   \n",
       "21        q=Aix%20en%20Provence+France&format=geojson          200   5.447474   \n",
       "22                    q=Avignon+France&format=geojson          200   4.805901   \n",
       "23                       q=Uzes+France&format=geojson          200   4.419672   \n",
       "24                      q=Nimes+France&format=geojson          200   4.360069   \n",
       "25            q=Aigues%20Mortes+France&format=geojson          200   4.191540   \n",
       "26  q=Saintes%20Maries%20de%20la%20mer+France&form...          200   4.427720   \n",
       "27                  q=Collioure+France&format=geojson          200   3.083155   \n",
       "28                q=Carcassonne+France&format=geojson          200   2.349107   \n",
       "29                     q=Ariege+France&format=geojson          200   1.406554   \n",
       "30                   q=Toulouse+France&format=geojson          200   1.444247   \n",
       "31                  q=Montauban+France&format=geojson          200   1.354999   \n",
       "32                   q=Biarritz+France&format=geojson          200  -1.552727   \n",
       "33                    q=Bayonne+France&format=geojson          200  -1.473666   \n",
       "34              q=La%20Rochelle+France&format=geojson          200  -1.151595   \n",
       "\n",
       "     latitude  \n",
       "0   48.635954  \n",
       "1   48.649518  \n",
       "2   49.276462  \n",
       "3   49.493898  \n",
       "4   49.440459  \n",
       "5   48.858890  \n",
       "6   49.894171  \n",
       "7   50.636565  \n",
       "8   48.584614  \n",
       "9   48.249411  \n",
       "10  48.077752  \n",
       "11  48.044797  \n",
       "12  47.238022  \n",
       "13  47.321581  \n",
       "14  45.899235  \n",
       "15  45.187560  \n",
       "16  45.757814  \n",
       "17  43.749656  \n",
       "18  43.150697  \n",
       "19  43.214036  \n",
       "20  43.296174  \n",
       "21  43.529842  \n",
       "22  43.949249  \n",
       "23  44.012128  \n",
       "24  43.837425  \n",
       "25  43.566152  \n",
       "26  43.451592  \n",
       "27  42.525050  \n",
       "28  43.213036  \n",
       "29  42.945537  \n",
       "30  43.604462  \n",
       "31  44.017584  \n",
       "32  43.471144  \n",
       "33  43.494514  \n",
       "34  46.159732  "
      ]
     },
     "execution_count": 54,
     "metadata": {},
     "output_type": "execute_result"
    }
   ],
   "source": [
    "df = pd.DataFrame(liste_coordonnees)\n",
    "df"
   ]
  },
  {
   "cell_type": "code",
   "execution_count": 55,
   "id": "b1721e6d",
   "metadata": {},
   "outputs": [
    {
     "data": {
      "application/vnd.plotly.v1+json": {
       "config": {
        "plotlyServerURL": "https://plot.ly"
       },
       "data": [
        {
         "hovertemplate": "nom=%{text}<br>latitude=%{lat}<br>longitude=%{lon}<extra></extra>",
         "lat": [
          48.6359541,
          48.649518,
          49.2764624,
          49.4938975,
          49.4404591,
          48.8588897,
          49.8941708,
          50.6365654,
          48.584614,
          48.249410749999996,
          48.0777517,
          48.0447968,
          47.2380222,
          47.3215806,
          45.8992348,
          45.1875602,
          45.7578137,
          43.7496562,
          43.1506968,
          43.2140359,
          43.2961743,
          43.5298424,
          43.9492493,
          44.0121279,
          43.8374249,
          43.5661521,
          43.4515922,
          42.52505,
          43.2130358,
          42.9455368,
          43.6044622,
          44.0175835,
          43.471143749999996,
          43.4945144,
          46.159732
         ],
         "legendgroup": "",
         "lon": [
          -1.51146,
          -2.0260409,
          -0.7024738,
          0.1079732,
          1.0939658,
          2.320041,
          2.2956951,
          3.0635282,
          7.7507127,
          7.344320233724503,
          7.3579641,
          7.3079618,
          6.0243622,
          5.0414701,
          6.1288847,
          5.7357819,
          4.8320114,
          6.3285616,
          6.3419285,
          5.5396318,
          5.3699525,
          5.4474738,
          4.8059012,
          4.4196718,
          4.3600687,
          4.19154,
          4.4277202,
          3.0831554,
          2.3491069,
          1.4065543999999999,
          1.4442469,
          1.3549991,
          -1.552726590666314,
          -1.4736657,
          -1.1515951
         ],
         "marker": {
          "color": "#636efa"
         },
         "mode": "markers+text",
         "name": "",
         "showlegend": false,
         "subplot": "mapbox",
         "text": [
          "Mont Saint Michel",
          "St Malo",
          "Bayeux",
          "Le Havre",
          "Rouen",
          "Paris",
          "Amiens",
          "Lille",
          "Strasbourg",
          "Chateau du Haut Koenigsbourg",
          "Colmar",
          "Eguisheim",
          "Besancon",
          "Dijon",
          "Annecy",
          "Grenoble",
          "Lyon",
          "Gorges du Verdon",
          "Bormes les Mimosas",
          "Cassis",
          "Marseille",
          "Aix en Provence",
          "Avignon",
          "Uzes",
          "Nimes",
          "Aigues Mortes",
          "Saintes Maries de la mer",
          "Collioure",
          "Carcassonne",
          "Ariege",
          "Toulouse",
          "Montauban",
          "Biarritz",
          "Bayonne",
          "La Rochelle"
         ],
         "type": "scattermapbox"
        }
       ],
       "layout": {
        "legend": {
         "tracegroupgap": 0
        },
        "mapbox": {
         "center": {
          "lat": 45.84099177714286,
          "lon": 3.395920661230234
         },
         "domain": {
          "x": [
           0,
           1
          ],
          "y": [
           0,
           1
          ]
         },
         "zoom": 8
        },
        "margin": {
         "t": 60
        },
        "template": {
         "data": {
          "bar": [
           {
            "error_x": {
             "color": "#2a3f5f"
            },
            "error_y": {
             "color": "#2a3f5f"
            },
            "marker": {
             "line": {
              "color": "#E5ECF6",
              "width": 0.5
             },
             "pattern": {
              "fillmode": "overlay",
              "size": 10,
              "solidity": 0.2
             }
            },
            "type": "bar"
           }
          ],
          "barpolar": [
           {
            "marker": {
             "line": {
              "color": "#E5ECF6",
              "width": 0.5
             },
             "pattern": {
              "fillmode": "overlay",
              "size": 10,
              "solidity": 0.2
             }
            },
            "type": "barpolar"
           }
          ],
          "carpet": [
           {
            "aaxis": {
             "endlinecolor": "#2a3f5f",
             "gridcolor": "white",
             "linecolor": "white",
             "minorgridcolor": "white",
             "startlinecolor": "#2a3f5f"
            },
            "baxis": {
             "endlinecolor": "#2a3f5f",
             "gridcolor": "white",
             "linecolor": "white",
             "minorgridcolor": "white",
             "startlinecolor": "#2a3f5f"
            },
            "type": "carpet"
           }
          ],
          "choropleth": [
           {
            "colorbar": {
             "outlinewidth": 0,
             "ticks": ""
            },
            "type": "choropleth"
           }
          ],
          "contour": [
           {
            "colorbar": {
             "outlinewidth": 0,
             "ticks": ""
            },
            "colorscale": [
             [
              0,
              "#0d0887"
             ],
             [
              0.1111111111111111,
              "#46039f"
             ],
             [
              0.2222222222222222,
              "#7201a8"
             ],
             [
              0.3333333333333333,
              "#9c179e"
             ],
             [
              0.4444444444444444,
              "#bd3786"
             ],
             [
              0.5555555555555556,
              "#d8576b"
             ],
             [
              0.6666666666666666,
              "#ed7953"
             ],
             [
              0.7777777777777778,
              "#fb9f3a"
             ],
             [
              0.8888888888888888,
              "#fdca26"
             ],
             [
              1,
              "#f0f921"
             ]
            ],
            "type": "contour"
           }
          ],
          "contourcarpet": [
           {
            "colorbar": {
             "outlinewidth": 0,
             "ticks": ""
            },
            "type": "contourcarpet"
           }
          ],
          "heatmap": [
           {
            "colorbar": {
             "outlinewidth": 0,
             "ticks": ""
            },
            "colorscale": [
             [
              0,
              "#0d0887"
             ],
             [
              0.1111111111111111,
              "#46039f"
             ],
             [
              0.2222222222222222,
              "#7201a8"
             ],
             [
              0.3333333333333333,
              "#9c179e"
             ],
             [
              0.4444444444444444,
              "#bd3786"
             ],
             [
              0.5555555555555556,
              "#d8576b"
             ],
             [
              0.6666666666666666,
              "#ed7953"
             ],
             [
              0.7777777777777778,
              "#fb9f3a"
             ],
             [
              0.8888888888888888,
              "#fdca26"
             ],
             [
              1,
              "#f0f921"
             ]
            ],
            "type": "heatmap"
           }
          ],
          "heatmapgl": [
           {
            "colorbar": {
             "outlinewidth": 0,
             "ticks": ""
            },
            "colorscale": [
             [
              0,
              "#0d0887"
             ],
             [
              0.1111111111111111,
              "#46039f"
             ],
             [
              0.2222222222222222,
              "#7201a8"
             ],
             [
              0.3333333333333333,
              "#9c179e"
             ],
             [
              0.4444444444444444,
              "#bd3786"
             ],
             [
              0.5555555555555556,
              "#d8576b"
             ],
             [
              0.6666666666666666,
              "#ed7953"
             ],
             [
              0.7777777777777778,
              "#fb9f3a"
             ],
             [
              0.8888888888888888,
              "#fdca26"
             ],
             [
              1,
              "#f0f921"
             ]
            ],
            "type": "heatmapgl"
           }
          ],
          "histogram": [
           {
            "marker": {
             "pattern": {
              "fillmode": "overlay",
              "size": 10,
              "solidity": 0.2
             }
            },
            "type": "histogram"
           }
          ],
          "histogram2d": [
           {
            "colorbar": {
             "outlinewidth": 0,
             "ticks": ""
            },
            "colorscale": [
             [
              0,
              "#0d0887"
             ],
             [
              0.1111111111111111,
              "#46039f"
             ],
             [
              0.2222222222222222,
              "#7201a8"
             ],
             [
              0.3333333333333333,
              "#9c179e"
             ],
             [
              0.4444444444444444,
              "#bd3786"
             ],
             [
              0.5555555555555556,
              "#d8576b"
             ],
             [
              0.6666666666666666,
              "#ed7953"
             ],
             [
              0.7777777777777778,
              "#fb9f3a"
             ],
             [
              0.8888888888888888,
              "#fdca26"
             ],
             [
              1,
              "#f0f921"
             ]
            ],
            "type": "histogram2d"
           }
          ],
          "histogram2dcontour": [
           {
            "colorbar": {
             "outlinewidth": 0,
             "ticks": ""
            },
            "colorscale": [
             [
              0,
              "#0d0887"
             ],
             [
              0.1111111111111111,
              "#46039f"
             ],
             [
              0.2222222222222222,
              "#7201a8"
             ],
             [
              0.3333333333333333,
              "#9c179e"
             ],
             [
              0.4444444444444444,
              "#bd3786"
             ],
             [
              0.5555555555555556,
              "#d8576b"
             ],
             [
              0.6666666666666666,
              "#ed7953"
             ],
             [
              0.7777777777777778,
              "#fb9f3a"
             ],
             [
              0.8888888888888888,
              "#fdca26"
             ],
             [
              1,
              "#f0f921"
             ]
            ],
            "type": "histogram2dcontour"
           }
          ],
          "mesh3d": [
           {
            "colorbar": {
             "outlinewidth": 0,
             "ticks": ""
            },
            "type": "mesh3d"
           }
          ],
          "parcoords": [
           {
            "line": {
             "colorbar": {
              "outlinewidth": 0,
              "ticks": ""
             }
            },
            "type": "parcoords"
           }
          ],
          "pie": [
           {
            "automargin": true,
            "type": "pie"
           }
          ],
          "scatter": [
           {
            "fillpattern": {
             "fillmode": "overlay",
             "size": 10,
             "solidity": 0.2
            },
            "type": "scatter"
           }
          ],
          "scatter3d": [
           {
            "line": {
             "colorbar": {
              "outlinewidth": 0,
              "ticks": ""
             }
            },
            "marker": {
             "colorbar": {
              "outlinewidth": 0,
              "ticks": ""
             }
            },
            "type": "scatter3d"
           }
          ],
          "scattercarpet": [
           {
            "marker": {
             "colorbar": {
              "outlinewidth": 0,
              "ticks": ""
             }
            },
            "type": "scattercarpet"
           }
          ],
          "scattergeo": [
           {
            "marker": {
             "colorbar": {
              "outlinewidth": 0,
              "ticks": ""
             }
            },
            "type": "scattergeo"
           }
          ],
          "scattergl": [
           {
            "marker": {
             "colorbar": {
              "outlinewidth": 0,
              "ticks": ""
             }
            },
            "type": "scattergl"
           }
          ],
          "scattermapbox": [
           {
            "marker": {
             "colorbar": {
              "outlinewidth": 0,
              "ticks": ""
             }
            },
            "type": "scattermapbox"
           }
          ],
          "scatterpolar": [
           {
            "marker": {
             "colorbar": {
              "outlinewidth": 0,
              "ticks": ""
             }
            },
            "type": "scatterpolar"
           }
          ],
          "scatterpolargl": [
           {
            "marker": {
             "colorbar": {
              "outlinewidth": 0,
              "ticks": ""
             }
            },
            "type": "scatterpolargl"
           }
          ],
          "scatterternary": [
           {
            "marker": {
             "colorbar": {
              "outlinewidth": 0,
              "ticks": ""
             }
            },
            "type": "scatterternary"
           }
          ],
          "surface": [
           {
            "colorbar": {
             "outlinewidth": 0,
             "ticks": ""
            },
            "colorscale": [
             [
              0,
              "#0d0887"
             ],
             [
              0.1111111111111111,
              "#46039f"
             ],
             [
              0.2222222222222222,
              "#7201a8"
             ],
             [
              0.3333333333333333,
              "#9c179e"
             ],
             [
              0.4444444444444444,
              "#bd3786"
             ],
             [
              0.5555555555555556,
              "#d8576b"
             ],
             [
              0.6666666666666666,
              "#ed7953"
             ],
             [
              0.7777777777777778,
              "#fb9f3a"
             ],
             [
              0.8888888888888888,
              "#fdca26"
             ],
             [
              1,
              "#f0f921"
             ]
            ],
            "type": "surface"
           }
          ],
          "table": [
           {
            "cells": {
             "fill": {
              "color": "#EBF0F8"
             },
             "line": {
              "color": "white"
             }
            },
            "header": {
             "fill": {
              "color": "#C8D4E3"
             },
             "line": {
              "color": "white"
             }
            },
            "type": "table"
           }
          ]
         },
         "layout": {
          "annotationdefaults": {
           "arrowcolor": "#2a3f5f",
           "arrowhead": 0,
           "arrowwidth": 1
          },
          "autotypenumbers": "strict",
          "coloraxis": {
           "colorbar": {
            "outlinewidth": 0,
            "ticks": ""
           }
          },
          "colorscale": {
           "diverging": [
            [
             0,
             "#8e0152"
            ],
            [
             0.1,
             "#c51b7d"
            ],
            [
             0.2,
             "#de77ae"
            ],
            [
             0.3,
             "#f1b6da"
            ],
            [
             0.4,
             "#fde0ef"
            ],
            [
             0.5,
             "#f7f7f7"
            ],
            [
             0.6,
             "#e6f5d0"
            ],
            [
             0.7,
             "#b8e186"
            ],
            [
             0.8,
             "#7fbc41"
            ],
            [
             0.9,
             "#4d9221"
            ],
            [
             1,
             "#276419"
            ]
           ],
           "sequential": [
            [
             0,
             "#0d0887"
            ],
            [
             0.1111111111111111,
             "#46039f"
            ],
            [
             0.2222222222222222,
             "#7201a8"
            ],
            [
             0.3333333333333333,
             "#9c179e"
            ],
            [
             0.4444444444444444,
             "#bd3786"
            ],
            [
             0.5555555555555556,
             "#d8576b"
            ],
            [
             0.6666666666666666,
             "#ed7953"
            ],
            [
             0.7777777777777778,
             "#fb9f3a"
            ],
            [
             0.8888888888888888,
             "#fdca26"
            ],
            [
             1,
             "#f0f921"
            ]
           ],
           "sequentialminus": [
            [
             0,
             "#0d0887"
            ],
            [
             0.1111111111111111,
             "#46039f"
            ],
            [
             0.2222222222222222,
             "#7201a8"
            ],
            [
             0.3333333333333333,
             "#9c179e"
            ],
            [
             0.4444444444444444,
             "#bd3786"
            ],
            [
             0.5555555555555556,
             "#d8576b"
            ],
            [
             0.6666666666666666,
             "#ed7953"
            ],
            [
             0.7777777777777778,
             "#fb9f3a"
            ],
            [
             0.8888888888888888,
             "#fdca26"
            ],
            [
             1,
             "#f0f921"
            ]
           ]
          },
          "colorway": [
           "#636efa",
           "#EF553B",
           "#00cc96",
           "#ab63fa",
           "#FFA15A",
           "#19d3f3",
           "#FF6692",
           "#B6E880",
           "#FF97FF",
           "#FECB52"
          ],
          "font": {
           "color": "#2a3f5f"
          },
          "geo": {
           "bgcolor": "white",
           "lakecolor": "white",
           "landcolor": "#E5ECF6",
           "showlakes": true,
           "showland": true,
           "subunitcolor": "white"
          },
          "hoverlabel": {
           "align": "left"
          },
          "hovermode": "closest",
          "mapbox": {
           "style": "light"
          },
          "paper_bgcolor": "white",
          "plot_bgcolor": "#E5ECF6",
          "polar": {
           "angularaxis": {
            "gridcolor": "white",
            "linecolor": "white",
            "ticks": ""
           },
           "bgcolor": "#E5ECF6",
           "radialaxis": {
            "gridcolor": "white",
            "linecolor": "white",
            "ticks": ""
           }
          },
          "scene": {
           "xaxis": {
            "backgroundcolor": "#E5ECF6",
            "gridcolor": "white",
            "gridwidth": 2,
            "linecolor": "white",
            "showbackground": true,
            "ticks": "",
            "zerolinecolor": "white"
           },
           "yaxis": {
            "backgroundcolor": "#E5ECF6",
            "gridcolor": "white",
            "gridwidth": 2,
            "linecolor": "white",
            "showbackground": true,
            "ticks": "",
            "zerolinecolor": "white"
           },
           "zaxis": {
            "backgroundcolor": "#E5ECF6",
            "gridcolor": "white",
            "gridwidth": 2,
            "linecolor": "white",
            "showbackground": true,
            "ticks": "",
            "zerolinecolor": "white"
           }
          },
          "shapedefaults": {
           "line": {
            "color": "#2a3f5f"
           }
          },
          "ternary": {
           "aaxis": {
            "gridcolor": "white",
            "linecolor": "white",
            "ticks": ""
           },
           "baxis": {
            "gridcolor": "white",
            "linecolor": "white",
            "ticks": ""
           },
           "bgcolor": "#E5ECF6",
           "caxis": {
            "gridcolor": "white",
            "linecolor": "white",
            "ticks": ""
           }
          },
          "title": {
           "x": 0.05
          },
          "xaxis": {
           "automargin": true,
           "gridcolor": "white",
           "linecolor": "white",
           "ticks": "",
           "title": {
            "standoff": 15
           },
           "zerolinecolor": "white",
           "zerolinewidth": 2
          },
          "yaxis": {
           "automargin": true,
           "gridcolor": "white",
           "linecolor": "white",
           "ticks": "",
           "title": {
            "standoff": 15
           },
           "zerolinecolor": "white",
           "zerolinewidth": 2
          }
         }
        }
       }
      }
     },
     "metadata": {},
     "output_type": "display_data"
    }
   ],
   "source": [
    "fig = px.scatter_mapbox(df, lat=\"latitude\", lon=\"longitude\", text='nom')\n",
    "fig.show()"
   ]
  },
  {
   "cell_type": "code",
   "execution_count": 56,
   "id": "63149cde",
   "metadata": {},
   "outputs": [
    {
     "data": {
      "text/html": [
       "<div>\n",
       "<style scoped>\n",
       "    .dataframe tbody tr th:only-of-type {\n",
       "        vertical-align: middle;\n",
       "    }\n",
       "\n",
       "    .dataframe tbody tr th {\n",
       "        vertical-align: top;\n",
       "    }\n",
       "\n",
       "    .dataframe thead th {\n",
       "        text-align: right;\n",
       "    }\n",
       "</style>\n",
       "<table border=\"1\" class=\"dataframe\">\n",
       "  <thead>\n",
       "    <tr style=\"text-align: right;\">\n",
       "      <th></th>\n",
       "      <th>nom</th>\n",
       "      <th>url</th>\n",
       "      <th>code_reponse</th>\n",
       "      <th>longitude</th>\n",
       "      <th>latitude</th>\n",
       "    </tr>\n",
       "  </thead>\n",
       "  <tbody>\n",
       "    <tr>\n",
       "      <th>0</th>\n",
       "      <td>Mont Saint Michel</td>\n",
       "      <td>q=Mont%20Saint%20Michel+France&amp;format=geojson</td>\n",
       "      <td>200</td>\n",
       "      <td>-1.511460</td>\n",
       "      <td>48.635954</td>\n",
       "    </tr>\n",
       "    <tr>\n",
       "      <th>1</th>\n",
       "      <td>St Malo</td>\n",
       "      <td>q=St%20Malo+France&amp;format=geojson</td>\n",
       "      <td>200</td>\n",
       "      <td>-2.026041</td>\n",
       "      <td>48.649518</td>\n",
       "    </tr>\n",
       "    <tr>\n",
       "      <th>2</th>\n",
       "      <td>Bayeux</td>\n",
       "      <td>q=Bayeux+France&amp;format=geojson</td>\n",
       "      <td>200</td>\n",
       "      <td>-0.702474</td>\n",
       "      <td>49.276462</td>\n",
       "    </tr>\n",
       "    <tr>\n",
       "      <th>3</th>\n",
       "      <td>Le Havre</td>\n",
       "      <td>q=Le%20Havre+France&amp;format=geojson</td>\n",
       "      <td>200</td>\n",
       "      <td>0.107973</td>\n",
       "      <td>49.493898</td>\n",
       "    </tr>\n",
       "    <tr>\n",
       "      <th>4</th>\n",
       "      <td>Rouen</td>\n",
       "      <td>q=Rouen+France&amp;format=geojson</td>\n",
       "      <td>200</td>\n",
       "      <td>1.093966</td>\n",
       "      <td>49.440459</td>\n",
       "    </tr>\n",
       "  </tbody>\n",
       "</table>\n",
       "</div>"
      ],
      "text/plain": [
       "                 nom                                            url  \\\n",
       "0  Mont Saint Michel  q=Mont%20Saint%20Michel+France&format=geojson   \n",
       "1            St Malo              q=St%20Malo+France&format=geojson   \n",
       "2             Bayeux                 q=Bayeux+France&format=geojson   \n",
       "3           Le Havre             q=Le%20Havre+France&format=geojson   \n",
       "4              Rouen                  q=Rouen+France&format=geojson   \n",
       "\n",
       "   code_reponse  longitude   latitude  \n",
       "0           200  -1.511460  48.635954  \n",
       "1           200  -2.026041  48.649518  \n",
       "2           200  -0.702474  49.276462  \n",
       "3           200   0.107973  49.493898  \n",
       "4           200   1.093966  49.440459  "
      ]
     },
     "execution_count": 56,
     "metadata": {},
     "output_type": "execute_result"
    }
   ],
   "source": [
    "df_csv = pd.read_csv('coordonnees.csv',delimiter=';', names=['nom', 'url', 'code_reponse', 'longitude', 'latitude'])\n",
    "df_csv.head(5)"
   ]
  },
  {
   "cell_type": "code",
   "execution_count": 57,
   "id": "24169ebf",
   "metadata": {},
   "outputs": [
    {
     "data": {
      "application/vnd.plotly.v1+json": {
       "config": {
        "plotlyServerURL": "https://plot.ly"
       },
       "data": [
        {
         "hovertemplate": "nom=%{text}<br>latitude=%{lat}<br>longitude=%{lon}<extra></extra>",
         "lat": [
          48.6359541,
          48.649518,
          49.2764624,
          49.4938975,
          49.4404591,
          48.8588897,
          49.8941708,
          50.6365654,
          48.584614,
          48.249410749999996,
          48.0777517,
          48.0447968,
          47.2380222,
          47.3215806,
          45.8992348,
          45.1875602,
          45.7578137,
          43.7496562,
          43.1506968,
          43.2140359,
          43.2961743,
          43.5298424,
          43.9492493,
          44.0121279,
          43.8374249,
          43.5661521,
          43.4515922,
          42.52505,
          43.2130358,
          42.9455368,
          43.6044622,
          44.0175835,
          43.471143749999996,
          43.4945144,
          46.159732
         ],
         "legendgroup": "",
         "lon": [
          -1.51146,
          -2.0260409,
          -0.7024738,
          0.1079732,
          1.0939658,
          2.320041,
          2.2956951,
          3.0635282,
          7.7507127,
          7.344320233724503,
          7.3579641,
          7.3079618,
          6.0243622,
          5.0414701,
          6.1288847,
          5.7357819,
          4.8320114,
          6.3285616,
          6.3419285,
          5.5396318,
          5.3699525,
          5.4474738,
          4.8059012,
          4.4196718,
          4.3600687,
          4.19154,
          4.4277202,
          3.0831554,
          2.3491069,
          1.4065543999999999,
          1.4442469,
          1.3549991,
          -1.552726590666314,
          -1.4736657,
          -1.1515951
         ],
         "marker": {
          "color": "#636efa"
         },
         "mode": "markers+text",
         "name": "",
         "showlegend": false,
         "subplot": "map",
         "text": [
          "Mont Saint Michel",
          "St Malo",
          "Bayeux",
          "Le Havre",
          "Rouen",
          "Paris",
          "Amiens",
          "Lille",
          "Strasbourg",
          "Chateau du Haut Koenigsbourg",
          "Colmar",
          "Eguisheim",
          "Besancon",
          "Dijon",
          "Annecy",
          "Grenoble",
          "Lyon",
          "Gorges du Verdon",
          "Bormes les Mimosas",
          "Cassis",
          "Marseille",
          "Aix en Provence",
          "Avignon",
          "Uzes",
          "Nimes",
          "Aigues Mortes",
          "Saintes Maries de la mer",
          "Collioure",
          "Carcassonne",
          "Ariege",
          "Toulouse",
          "Montauban",
          "Biarritz",
          "Bayonne",
          "La Rochelle"
         ],
         "type": "scattermap"
        }
       ],
       "layout": {
        "legend": {
         "tracegroupgap": 0
        },
        "map": {
         "center": {
          "lat": 45.84099177714286,
          "lon": 3.395920661230234
         },
         "domain": {
          "x": [
           0,
           1
          ],
          "y": [
           0,
           1
          ]
         },
         "zoom": 8
        },
        "mapbox": {
         "center": {
          "lat": 45.84099177714286,
          "lon": 3.395920661230234
         },
         "zoom": 8
        },
        "margin": {
         "t": 60
        },
        "template": {
         "data": {
          "bar": [
           {
            "error_x": {
             "color": "#2a3f5f"
            },
            "error_y": {
             "color": "#2a3f5f"
            },
            "marker": {
             "line": {
              "color": "#E5ECF6",
              "width": 0.5
             },
             "pattern": {
              "fillmode": "overlay",
              "size": 10,
              "solidity": 0.2
             }
            },
            "type": "bar"
           }
          ],
          "barpolar": [
           {
            "marker": {
             "line": {
              "color": "#E5ECF6",
              "width": 0.5
             },
             "pattern": {
              "fillmode": "overlay",
              "size": 10,
              "solidity": 0.2
             }
            },
            "type": "barpolar"
           }
          ],
          "carpet": [
           {
            "aaxis": {
             "endlinecolor": "#2a3f5f",
             "gridcolor": "white",
             "linecolor": "white",
             "minorgridcolor": "white",
             "startlinecolor": "#2a3f5f"
            },
            "baxis": {
             "endlinecolor": "#2a3f5f",
             "gridcolor": "white",
             "linecolor": "white",
             "minorgridcolor": "white",
             "startlinecolor": "#2a3f5f"
            },
            "type": "carpet"
           }
          ],
          "choropleth": [
           {
            "colorbar": {
             "outlinewidth": 0,
             "ticks": ""
            },
            "type": "choropleth"
           }
          ],
          "contour": [
           {
            "colorbar": {
             "outlinewidth": 0,
             "ticks": ""
            },
            "colorscale": [
             [
              0,
              "#0d0887"
             ],
             [
              0.1111111111111111,
              "#46039f"
             ],
             [
              0.2222222222222222,
              "#7201a8"
             ],
             [
              0.3333333333333333,
              "#9c179e"
             ],
             [
              0.4444444444444444,
              "#bd3786"
             ],
             [
              0.5555555555555556,
              "#d8576b"
             ],
             [
              0.6666666666666666,
              "#ed7953"
             ],
             [
              0.7777777777777778,
              "#fb9f3a"
             ],
             [
              0.8888888888888888,
              "#fdca26"
             ],
             [
              1,
              "#f0f921"
             ]
            ],
            "type": "contour"
           }
          ],
          "contourcarpet": [
           {
            "colorbar": {
             "outlinewidth": 0,
             "ticks": ""
            },
            "type": "contourcarpet"
           }
          ],
          "heatmap": [
           {
            "colorbar": {
             "outlinewidth": 0,
             "ticks": ""
            },
            "colorscale": [
             [
              0,
              "#0d0887"
             ],
             [
              0.1111111111111111,
              "#46039f"
             ],
             [
              0.2222222222222222,
              "#7201a8"
             ],
             [
              0.3333333333333333,
              "#9c179e"
             ],
             [
              0.4444444444444444,
              "#bd3786"
             ],
             [
              0.5555555555555556,
              "#d8576b"
             ],
             [
              0.6666666666666666,
              "#ed7953"
             ],
             [
              0.7777777777777778,
              "#fb9f3a"
             ],
             [
              0.8888888888888888,
              "#fdca26"
             ],
             [
              1,
              "#f0f921"
             ]
            ],
            "type": "heatmap"
           }
          ],
          "heatmapgl": [
           {
            "colorbar": {
             "outlinewidth": 0,
             "ticks": ""
            },
            "colorscale": [
             [
              0,
              "#0d0887"
             ],
             [
              0.1111111111111111,
              "#46039f"
             ],
             [
              0.2222222222222222,
              "#7201a8"
             ],
             [
              0.3333333333333333,
              "#9c179e"
             ],
             [
              0.4444444444444444,
              "#bd3786"
             ],
             [
              0.5555555555555556,
              "#d8576b"
             ],
             [
              0.6666666666666666,
              "#ed7953"
             ],
             [
              0.7777777777777778,
              "#fb9f3a"
             ],
             [
              0.8888888888888888,
              "#fdca26"
             ],
             [
              1,
              "#f0f921"
             ]
            ],
            "type": "heatmapgl"
           }
          ],
          "histogram": [
           {
            "marker": {
             "pattern": {
              "fillmode": "overlay",
              "size": 10,
              "solidity": 0.2
             }
            },
            "type": "histogram"
           }
          ],
          "histogram2d": [
           {
            "colorbar": {
             "outlinewidth": 0,
             "ticks": ""
            },
            "colorscale": [
             [
              0,
              "#0d0887"
             ],
             [
              0.1111111111111111,
              "#46039f"
             ],
             [
              0.2222222222222222,
              "#7201a8"
             ],
             [
              0.3333333333333333,
              "#9c179e"
             ],
             [
              0.4444444444444444,
              "#bd3786"
             ],
             [
              0.5555555555555556,
              "#d8576b"
             ],
             [
              0.6666666666666666,
              "#ed7953"
             ],
             [
              0.7777777777777778,
              "#fb9f3a"
             ],
             [
              0.8888888888888888,
              "#fdca26"
             ],
             [
              1,
              "#f0f921"
             ]
            ],
            "type": "histogram2d"
           }
          ],
          "histogram2dcontour": [
           {
            "colorbar": {
             "outlinewidth": 0,
             "ticks": ""
            },
            "colorscale": [
             [
              0,
              "#0d0887"
             ],
             [
              0.1111111111111111,
              "#46039f"
             ],
             [
              0.2222222222222222,
              "#7201a8"
             ],
             [
              0.3333333333333333,
              "#9c179e"
             ],
             [
              0.4444444444444444,
              "#bd3786"
             ],
             [
              0.5555555555555556,
              "#d8576b"
             ],
             [
              0.6666666666666666,
              "#ed7953"
             ],
             [
              0.7777777777777778,
              "#fb9f3a"
             ],
             [
              0.8888888888888888,
              "#fdca26"
             ],
             [
              1,
              "#f0f921"
             ]
            ],
            "type": "histogram2dcontour"
           }
          ],
          "mesh3d": [
           {
            "colorbar": {
             "outlinewidth": 0,
             "ticks": ""
            },
            "type": "mesh3d"
           }
          ],
          "parcoords": [
           {
            "line": {
             "colorbar": {
              "outlinewidth": 0,
              "ticks": ""
             }
            },
            "type": "parcoords"
           }
          ],
          "pie": [
           {
            "automargin": true,
            "type": "pie"
           }
          ],
          "scatter": [
           {
            "fillpattern": {
             "fillmode": "overlay",
             "size": 10,
             "solidity": 0.2
            },
            "type": "scatter"
           }
          ],
          "scatter3d": [
           {
            "line": {
             "colorbar": {
              "outlinewidth": 0,
              "ticks": ""
             }
            },
            "marker": {
             "colorbar": {
              "outlinewidth": 0,
              "ticks": ""
             }
            },
            "type": "scatter3d"
           }
          ],
          "scattercarpet": [
           {
            "marker": {
             "colorbar": {
              "outlinewidth": 0,
              "ticks": ""
             }
            },
            "type": "scattercarpet"
           }
          ],
          "scattergeo": [
           {
            "marker": {
             "colorbar": {
              "outlinewidth": 0,
              "ticks": ""
             }
            },
            "type": "scattergeo"
           }
          ],
          "scattergl": [
           {
            "marker": {
             "colorbar": {
              "outlinewidth": 0,
              "ticks": ""
             }
            },
            "type": "scattergl"
           }
          ],
          "scattermapbox": [
           {
            "marker": {
             "colorbar": {
              "outlinewidth": 0,
              "ticks": ""
             }
            },
            "type": "scattermapbox"
           }
          ],
          "scatterpolar": [
           {
            "marker": {
             "colorbar": {
              "outlinewidth": 0,
              "ticks": ""
             }
            },
            "type": "scatterpolar"
           }
          ],
          "scatterpolargl": [
           {
            "marker": {
             "colorbar": {
              "outlinewidth": 0,
              "ticks": ""
             }
            },
            "type": "scatterpolargl"
           }
          ],
          "scatterternary": [
           {
            "marker": {
             "colorbar": {
              "outlinewidth": 0,
              "ticks": ""
             }
            },
            "type": "scatterternary"
           }
          ],
          "surface": [
           {
            "colorbar": {
             "outlinewidth": 0,
             "ticks": ""
            },
            "colorscale": [
             [
              0,
              "#0d0887"
             ],
             [
              0.1111111111111111,
              "#46039f"
             ],
             [
              0.2222222222222222,
              "#7201a8"
             ],
             [
              0.3333333333333333,
              "#9c179e"
             ],
             [
              0.4444444444444444,
              "#bd3786"
             ],
             [
              0.5555555555555556,
              "#d8576b"
             ],
             [
              0.6666666666666666,
              "#ed7953"
             ],
             [
              0.7777777777777778,
              "#fb9f3a"
             ],
             [
              0.8888888888888888,
              "#fdca26"
             ],
             [
              1,
              "#f0f921"
             ]
            ],
            "type": "surface"
           }
          ],
          "table": [
           {
            "cells": {
             "fill": {
              "color": "#EBF0F8"
             },
             "line": {
              "color": "white"
             }
            },
            "header": {
             "fill": {
              "color": "#C8D4E3"
             },
             "line": {
              "color": "white"
             }
            },
            "type": "table"
           }
          ]
         },
         "layout": {
          "annotationdefaults": {
           "arrowcolor": "#2a3f5f",
           "arrowhead": 0,
           "arrowwidth": 1
          },
          "autotypenumbers": "strict",
          "coloraxis": {
           "colorbar": {
            "outlinewidth": 0,
            "ticks": ""
           }
          },
          "colorscale": {
           "diverging": [
            [
             0,
             "#8e0152"
            ],
            [
             0.1,
             "#c51b7d"
            ],
            [
             0.2,
             "#de77ae"
            ],
            [
             0.3,
             "#f1b6da"
            ],
            [
             0.4,
             "#fde0ef"
            ],
            [
             0.5,
             "#f7f7f7"
            ],
            [
             0.6,
             "#e6f5d0"
            ],
            [
             0.7,
             "#b8e186"
            ],
            [
             0.8,
             "#7fbc41"
            ],
            [
             0.9,
             "#4d9221"
            ],
            [
             1,
             "#276419"
            ]
           ],
           "sequential": [
            [
             0,
             "#0d0887"
            ],
            [
             0.1111111111111111,
             "#46039f"
            ],
            [
             0.2222222222222222,
             "#7201a8"
            ],
            [
             0.3333333333333333,
             "#9c179e"
            ],
            [
             0.4444444444444444,
             "#bd3786"
            ],
            [
             0.5555555555555556,
             "#d8576b"
            ],
            [
             0.6666666666666666,
             "#ed7953"
            ],
            [
             0.7777777777777778,
             "#fb9f3a"
            ],
            [
             0.8888888888888888,
             "#fdca26"
            ],
            [
             1,
             "#f0f921"
            ]
           ],
           "sequentialminus": [
            [
             0,
             "#0d0887"
            ],
            [
             0.1111111111111111,
             "#46039f"
            ],
            [
             0.2222222222222222,
             "#7201a8"
            ],
            [
             0.3333333333333333,
             "#9c179e"
            ],
            [
             0.4444444444444444,
             "#bd3786"
            ],
            [
             0.5555555555555556,
             "#d8576b"
            ],
            [
             0.6666666666666666,
             "#ed7953"
            ],
            [
             0.7777777777777778,
             "#fb9f3a"
            ],
            [
             0.8888888888888888,
             "#fdca26"
            ],
            [
             1,
             "#f0f921"
            ]
           ]
          },
          "colorway": [
           "#636efa",
           "#EF553B",
           "#00cc96",
           "#ab63fa",
           "#FFA15A",
           "#19d3f3",
           "#FF6692",
           "#B6E880",
           "#FF97FF",
           "#FECB52"
          ],
          "font": {
           "color": "#2a3f5f"
          },
          "geo": {
           "bgcolor": "white",
           "lakecolor": "white",
           "landcolor": "#E5ECF6",
           "showlakes": true,
           "showland": true,
           "subunitcolor": "white"
          },
          "hoverlabel": {
           "align": "left"
          },
          "hovermode": "closest",
          "mapbox": {
           "style": "light"
          },
          "paper_bgcolor": "white",
          "plot_bgcolor": "#E5ECF6",
          "polar": {
           "angularaxis": {
            "gridcolor": "white",
            "linecolor": "white",
            "ticks": ""
           },
           "bgcolor": "#E5ECF6",
           "radialaxis": {
            "gridcolor": "white",
            "linecolor": "white",
            "ticks": ""
           }
          },
          "scene": {
           "xaxis": {
            "backgroundcolor": "#E5ECF6",
            "gridcolor": "white",
            "gridwidth": 2,
            "linecolor": "white",
            "showbackground": true,
            "ticks": "",
            "zerolinecolor": "white"
           },
           "yaxis": {
            "backgroundcolor": "#E5ECF6",
            "gridcolor": "white",
            "gridwidth": 2,
            "linecolor": "white",
            "showbackground": true,
            "ticks": "",
            "zerolinecolor": "white"
           },
           "zaxis": {
            "backgroundcolor": "#E5ECF6",
            "gridcolor": "white",
            "gridwidth": 2,
            "linecolor": "white",
            "showbackground": true,
            "ticks": "",
            "zerolinecolor": "white"
           }
          },
          "shapedefaults": {
           "line": {
            "color": "#2a3f5f"
           }
          },
          "ternary": {
           "aaxis": {
            "gridcolor": "white",
            "linecolor": "white",
            "ticks": ""
           },
           "baxis": {
            "gridcolor": "white",
            "linecolor": "white",
            "ticks": ""
           },
           "bgcolor": "#E5ECF6",
           "caxis": {
            "gridcolor": "white",
            "linecolor": "white",
            "ticks": ""
           }
          },
          "title": {
           "x": 0.05
          },
          "xaxis": {
           "automargin": true,
           "gridcolor": "white",
           "linecolor": "white",
           "ticks": "",
           "title": {
            "standoff": 15
           },
           "zerolinecolor": "white",
           "zerolinewidth": 2
          },
          "yaxis": {
           "automargin": true,
           "gridcolor": "white",
           "linecolor": "white",
           "ticks": "",
           "title": {
            "standoff": 15
           },
           "zerolinecolor": "white",
           "zerolinewidth": 2
          }
         }
        }
       }
      }
     },
     "metadata": {},
     "output_type": "display_data"
    }
   ],
   "source": [
    "px.scatter_map(df, lat='latitude', lon='longitude', text='nom')"
   ]
  },
  {
   "cell_type": "code",
   "execution_count": null,
   "id": "c242149d",
   "metadata": {},
   "outputs": [],
   "source": []
  }
 ],
 "metadata": {
  "kernelspec": {
   "display_name": "base",
   "language": "python",
   "name": "python3"
  },
  "language_info": {
   "codemirror_mode": {
    "name": "ipython",
    "version": 3
   },
   "file_extension": ".py",
   "mimetype": "text/x-python",
   "name": "python",
   "nbconvert_exporter": "python",
   "pygments_lexer": "ipython3",
   "version": "3.12.7"
  }
 },
 "nbformat": 4,
 "nbformat_minor": 5
}
